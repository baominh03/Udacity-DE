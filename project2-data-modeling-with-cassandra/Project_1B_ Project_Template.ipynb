{
 "cells": [
  {
   "cell_type": "markdown",
   "metadata": {},
   "source": [
    "# Part I. ETL Pipeline for Pre-Processing the Files"
   ]
  },
  {
   "cell_type": "markdown",
   "metadata": {},
   "source": [
    "## PLEASE RUN THE FOLLOWING CODE FOR PRE-PROCESSING THE FILES"
   ]
  },
  {
   "cell_type": "markdown",
   "metadata": {},
   "source": [
    "#### Import Python packages "
   ]
  },
  {
   "cell_type": "code",
   "execution_count": 19,
   "metadata": {},
   "outputs": [],
   "source": [
    "# Import Python packages \n",
    "import pandas as pd\n",
    "import cassandra\n",
    "import re\n",
    "import os\n",
    "import glob\n",
    "import numpy as np\n",
    "import json\n",
    "import csv"
   ]
  },
  {
   "cell_type": "markdown",
   "metadata": {},
   "source": [
    "#### Creating list of filepaths to process original event csv data files"
   ]
  },
  {
   "cell_type": "code",
   "execution_count": 20,
   "metadata": {},
   "outputs": [
    {
     "name": "stdout",
     "output_type": "stream",
     "text": [
      "working directory: d:\\WORKING AREA\\DATA ENGINEER\\workplace-github\\project2-data-modeling-with-cassandra\n",
      "folder and subfolder event data: d:\\WORKING AREA\\DATA ENGINEER\\workplace-github\\project2-data-modeling-with-cassandra/event_data\n",
      "['d:\\\\WORKING AREA\\\\DATA ENGINEER\\\\workplace-github\\\\project2-data-modeling-with-cassandra/event_data\\\\2018-11-01-events.csv', 'd:\\\\WORKING AREA\\\\DATA ENGINEER\\\\workplace-github\\\\project2-data-modeling-with-cassandra/event_data\\\\2018-11-02-events.csv', 'd:\\\\WORKING AREA\\\\DATA ENGINEER\\\\workplace-github\\\\project2-data-modeling-with-cassandra/event_data\\\\2018-11-03-events.csv', 'd:\\\\WORKING AREA\\\\DATA ENGINEER\\\\workplace-github\\\\project2-data-modeling-with-cassandra/event_data\\\\2018-11-04-events.csv', 'd:\\\\WORKING AREA\\\\DATA ENGINEER\\\\workplace-github\\\\project2-data-modeling-with-cassandra/event_data\\\\2018-11-05-events.csv', 'd:\\\\WORKING AREA\\\\DATA ENGINEER\\\\workplace-github\\\\project2-data-modeling-with-cassandra/event_data\\\\2018-11-06-events.csv', 'd:\\\\WORKING AREA\\\\DATA ENGINEER\\\\workplace-github\\\\project2-data-modeling-with-cassandra/event_data\\\\2018-11-07-events.csv', 'd:\\\\WORKING AREA\\\\DATA ENGINEER\\\\workplace-github\\\\project2-data-modeling-with-cassandra/event_data\\\\2018-11-08-events.csv', 'd:\\\\WORKING AREA\\\\DATA ENGINEER\\\\workplace-github\\\\project2-data-modeling-with-cassandra/event_data\\\\2018-11-09-events.csv', 'd:\\\\WORKING AREA\\\\DATA ENGINEER\\\\workplace-github\\\\project2-data-modeling-with-cassandra/event_data\\\\2018-11-10-events.csv', 'd:\\\\WORKING AREA\\\\DATA ENGINEER\\\\workplace-github\\\\project2-data-modeling-with-cassandra/event_data\\\\2018-11-11-events.csv', 'd:\\\\WORKING AREA\\\\DATA ENGINEER\\\\workplace-github\\\\project2-data-modeling-with-cassandra/event_data\\\\2018-11-12-events.csv', 'd:\\\\WORKING AREA\\\\DATA ENGINEER\\\\workplace-github\\\\project2-data-modeling-with-cassandra/event_data\\\\2018-11-13-events.csv', 'd:\\\\WORKING AREA\\\\DATA ENGINEER\\\\workplace-github\\\\project2-data-modeling-with-cassandra/event_data\\\\2018-11-14-events.csv', 'd:\\\\WORKING AREA\\\\DATA ENGINEER\\\\workplace-github\\\\project2-data-modeling-with-cassandra/event_data\\\\2018-11-15-events.csv', 'd:\\\\WORKING AREA\\\\DATA ENGINEER\\\\workplace-github\\\\project2-data-modeling-with-cassandra/event_data\\\\2018-11-16-events.csv', 'd:\\\\WORKING AREA\\\\DATA ENGINEER\\\\workplace-github\\\\project2-data-modeling-with-cassandra/event_data\\\\2018-11-17-events.csv', 'd:\\\\WORKING AREA\\\\DATA ENGINEER\\\\workplace-github\\\\project2-data-modeling-with-cassandra/event_data\\\\2018-11-18-events.csv', 'd:\\\\WORKING AREA\\\\DATA ENGINEER\\\\workplace-github\\\\project2-data-modeling-with-cassandra/event_data\\\\2018-11-19-events.csv', 'd:\\\\WORKING AREA\\\\DATA ENGINEER\\\\workplace-github\\\\project2-data-modeling-with-cassandra/event_data\\\\2018-11-20-events.csv', 'd:\\\\WORKING AREA\\\\DATA ENGINEER\\\\workplace-github\\\\project2-data-modeling-with-cassandra/event_data\\\\2018-11-21-events.csv', 'd:\\\\WORKING AREA\\\\DATA ENGINEER\\\\workplace-github\\\\project2-data-modeling-with-cassandra/event_data\\\\2018-11-22-events.csv', 'd:\\\\WORKING AREA\\\\DATA ENGINEER\\\\workplace-github\\\\project2-data-modeling-with-cassandra/event_data\\\\2018-11-23-events.csv', 'd:\\\\WORKING AREA\\\\DATA ENGINEER\\\\workplace-github\\\\project2-data-modeling-with-cassandra/event_data\\\\2018-11-24-events.csv', 'd:\\\\WORKING AREA\\\\DATA ENGINEER\\\\workplace-github\\\\project2-data-modeling-with-cassandra/event_data\\\\2018-11-25-events.csv', 'd:\\\\WORKING AREA\\\\DATA ENGINEER\\\\workplace-github\\\\project2-data-modeling-with-cassandra/event_data\\\\2018-11-26-events.csv', 'd:\\\\WORKING AREA\\\\DATA ENGINEER\\\\workplace-github\\\\project2-data-modeling-with-cassandra/event_data\\\\2018-11-27-events.csv', 'd:\\\\WORKING AREA\\\\DATA ENGINEER\\\\workplace-github\\\\project2-data-modeling-with-cassandra/event_data\\\\2018-11-28-events.csv', 'd:\\\\WORKING AREA\\\\DATA ENGINEER\\\\workplace-github\\\\project2-data-modeling-with-cassandra/event_data\\\\2018-11-29-events.csv', 'd:\\\\WORKING AREA\\\\DATA ENGINEER\\\\workplace-github\\\\project2-data-modeling-with-cassandra/event_data\\\\2018-11-30-events.csv']\n"
     ]
    }
   ],
   "source": [
    "# checking your current working directory\n",
    "print('working directory: ' + os.getcwd())\n",
    "\n",
    "# Get your current folder and subfolder event data\n",
    "filepath = os.getcwd() + '/event_data'\n",
    "\n",
    "# checking your folder and subfolder event data directory\n",
    "print('folder and subfolder event data: ' + filepath)\n",
    "\n",
    "# Create a for loop to create a list of files and collect each filepath\n",
    "for root, dirs, files in os.walk(filepath):\n",
    "    \n",
    "# join the file path and roots with the subdirectories using glob\n",
    "    file_path_list = glob.glob(os.path.join(root,'*'))\n",
    "    print(file_path_list)"
   ]
  },
  {
   "cell_type": "markdown",
   "metadata": {},
   "source": [
    "#### Processing the files to create the data file csv that will be used for Apache Casssandra tables"
   ]
  },
  {
   "cell_type": "code",
   "execution_count": 21,
   "metadata": {},
   "outputs": [
    {
     "name": "stdout",
     "output_type": "stream",
     "text": [
      "Remove existing event_datafile_new.csv file\n",
      "Wrote all records into new full event csv file\n"
     ]
    }
   ],
   "source": [
    "# initiating an empty list of rows that will be generated from each file\n",
    "full_data_rows_list = [] \n",
    "    \n",
    "# for every filepath in the file path list \n",
    "for f in file_path_list:\n",
    "\n",
    "# reading csv file \n",
    "    with open(f, 'r', encoding = 'utf8', newline='') as csvfile: \n",
    "        # creating a csv reader object \n",
    "        csvreader = csv.reader(csvfile) \n",
    "        next(csvreader)\n",
    "        \n",
    " # extracting each data row one by one and append it        \n",
    "        for line in csvreader:\n",
    "            #print(line)\n",
    "            full_data_rows_list.append(line) \n",
    "            \n",
    "# uncomment the code below if you would like to get total number of rows \n",
    "# print(len(full_data_rows_list))\n",
    "# uncomment the code below if you would like to check to see what the list of event data rows will look like\n",
    "# print(full_data_rows_list)\n",
    "\n",
    "# creating a smaller event data csv file called event_datafile_full csv that will be used to insert data into the \\\n",
    "# Apache Cassandra tables\n",
    "csv.register_dialect('myDialect', quoting=csv.QUOTE_ALL, skipinitialspace=True)\n",
    "\n",
    "# check if whether event_datafile_new.csv is existing or not then remove\n",
    "if os.path.exists('event_datafile_new.csv'):\n",
    "    os.remove('event_datafile_new.csv')\n",
    "    print('Remove existing event_datafile_new.csv file')\n",
    "    \n",
    "with open('event_datafile_new.csv', 'w', encoding = 'utf8', newline='') as f:\n",
    "    writer = csv.writer(f, dialect='myDialect')\n",
    "    writer.writerow(['artist','firstName','gender','itemInSession','lastName','length',\\\n",
    "                'level','location','sessionId','song','userId'])\n",
    "    for row in full_data_rows_list:\n",
    "        if (row[0] == ''):\n",
    "            continue\n",
    "        writer.writerow((row[0], row[2], row[3], row[4], row[5], row[6], row[7], row[8], row[12], row[13], row[16]))\n",
    "print('Wrote all records into new full event csv file')\n"
   ]
  },
  {
   "cell_type": "code",
   "execution_count": 22,
   "metadata": {},
   "outputs": [
    {
     "name": "stdout",
     "output_type": "stream",
     "text": [
      "6821\n"
     ]
    }
   ],
   "source": [
    "# check the number of rows in your csv file\n",
    "with open('event_datafile_new.csv', 'r', encoding = 'utf8') as f:\n",
    "    print(sum(1 for line in f))"
   ]
  },
  {
   "cell_type": "markdown",
   "metadata": {},
   "source": [
    "# Part II. Complete the Apache Cassandra coding portion of your project. \n",
    "\n",
    "## Now you are ready to work with the CSV file titled <font color=red>event_datafile_new.csv</font>, located within the Workspace directory.  The event_datafile_new.csv contains the following columns: \n",
    "- artist \n",
    "- firstName of user\n",
    "- gender of user\n",
    "- item number in session\n",
    "- last name of user\n",
    "- length of the song\n",
    "- level (paid or free song)\n",
    "- location of the user\n",
    "- sessionId\n",
    "- song title\n",
    "- userId\n",
    "\n",
    "The image below is a screenshot of what the denormalized data should appear like in the <font color=red>**event_datafile_new.csv**</font> after the code above is run:<br>\n",
    "\n",
    "<img src=\"images/image_event_datafile_new.jpg\">"
   ]
  },
  {
   "cell_type": "markdown",
   "metadata": {},
   "source": [
    "## Begin writing your Apache Cassandra code in the cells below"
   ]
  },
  {
   "cell_type": "markdown",
   "metadata": {},
   "source": [
    "#### Creating a Cluster"
   ]
  },
  {
   "cell_type": "code",
   "execution_count": 23,
   "metadata": {},
   "outputs": [],
   "source": [
    "# This should make a connection to a Cassandra instance your local machine \n",
    "# (127.0.0.1)\n",
    "\n",
    "from cassandra.cluster import Cluster\n",
    "\n",
    "cluster = Cluster(['127.0.0.1'])\n",
    "\n",
    "# To establish connection and begin executing queries, need a session\n",
    "session = cluster.connect()"
   ]
  },
  {
   "cell_type": "markdown",
   "metadata": {},
   "source": [
    "#### Create Keyspace"
   ]
  },
  {
   "cell_type": "code",
   "execution_count": 24,
   "metadata": {},
   "outputs": [],
   "source": [
    "# Create a Keyspace \n",
    "try:\n",
    "    session.execute(\"\"\"\n",
    "    CREATE KEYSPACE IF NOT EXISTS sparkifydb \n",
    "    WITH REPLICATION = \n",
    "    { 'class' : 'SimpleStrategy', 'replication_factor' : 1 }\"\"\"\n",
    ")\n",
    "\n",
    "except Exception as e:\n",
    "    print(e)"
   ]
  },
  {
   "cell_type": "markdown",
   "metadata": {},
   "source": [
    "#### Set Keyspace"
   ]
  },
  {
   "cell_type": "code",
   "execution_count": 25,
   "metadata": {},
   "outputs": [],
   "source": [
    "# Set KEYSPACE to the keyspace specified above\n",
    "try:\n",
    "    session.set_keyspace('sparkifydb')\n",
    "except Exception as e:\n",
    "    print(e)"
   ]
  },
  {
   "cell_type": "markdown",
   "metadata": {},
   "source": [
    "## Drop the tables before create table"
   ]
  },
  {
   "cell_type": "code",
   "execution_count": null,
   "metadata": {},
   "outputs": [],
   "source": [
    "# Drop the table before closing out the sessions\n",
    "query = \"DROP TABLE IF EXISTS song_table\"\n",
    "try:\n",
    "    rows = session.execute(query)\n",
    "except Exception as e:\n",
    "    print(e)\n",
    "\n",
    "query2 = \"DROP TABLE IF EXISTS artist_table\"\n",
    "try:\n",
    "    rows = session.execute(query2)\n",
    "except Exception as e:\n",
    "    print(e)\n",
    "    \n",
    "query3 = \"DROP TABLE IF EXISTS user_table\"\n",
    "try:\n",
    "    rows = session.execute(query3)\n",
    "except Exception as e:\n",
    "    print(e)"
   ]
  },
  {
   "cell_type": "markdown",
   "metadata": {},
   "source": [
    "### Now we need to create tables to run the following queries. Remember, with Apache Cassandra you model the database tables on the queries you want to run."
   ]
  },
  {
   "cell_type": "markdown",
   "metadata": {},
   "source": [
    "## Create queries to ask the following three questions of the data\n",
    "\n",
    "### 1. Give me the artist, song title and song's length in the music app history that was heard during  sessionId = 338, and itemInSession  = 4\n",
    "\n",
    "### 2. Give me only the following: name of artist, song (sorted by itemInSession) and user (first and last name) for userid = 10, sessionid = 182\n",
    "\n",
    "### 3. Give me every user name (first and last) in my music app history who listened to the song 'All Hands Against His Own'\n",
    "\n",
    "\n"
   ]
  },
  {
   "cell_type": "markdown",
   "metadata": {},
   "source": [
    "Query 1:\n",
    "=> **song_table:** filtering by session_id and item_in_session. So both fields are part of the partition key.\n",
    "\n",
    "| Column          | Type  | Partition Key | Cluster Key | Explanation                 |\n",
    "| --------------- | ----- | ------------- | ----------- | --------------------------- |\n",
    "| session_id      | INT   | Y             |             | fitering by session_id      |\n",
    "| item_in_session | INT   | Y             |             | fitering by item_in_session |\n",
    "| artist          | TEXT  |               |             |                             |\n",
    "| song_title      | TEXT  |               |             |                             |\n",
    "| length          | FLOAT |               |             |                             |"
   ]
  },
  {
   "cell_type": "code",
   "execution_count": 26,
   "metadata": {},
   "outputs": [],
   "source": [
    "# Query 1:  Give me the artist, song title and song's length in the music app history that was heard during sessionId = 338, and itemInSession = 4\n",
    "query = \"CREATE TABLE IF NOT EXISTS song_table\"\n",
    "query = query + \"(session_id int, item_in_session int, artist text, song_title text, length float, \\\n",
    "                PRIMARY KEY (session_id, item_in_session))\"\n",
    "try:\n",
    "    session.execute(query)\n",
    "except Exception as e:\n",
    "    print(e)"
   ]
  },
  {
   "cell_type": "code",
   "execution_count": 27,
   "metadata": {
    "scrolled": false
   },
   "outputs": [],
   "source": [
    "# We have provided part of the code to set up the CSV file. Please complete the Apache Cassandra code below#\n",
    "file = 'event_datafile_new.csv'\n",
    "\n",
    "with open(file, encoding = 'utf8') as f:\n",
    "    csvreader = csv.reader(f)\n",
    "    next(csvreader) # skip header\n",
    "    for line in csvreader:\n",
    "        # insert records into song_table\n",
    "        query = \"INSERT INTO song_table (session_id, item_in_session, artist, song_title, length)\"\n",
    "        query = query + \" VALUES (%s, %s, %s, %s, %s)\"\n",
    "        session.execute(query, (int(line[8]), int(line[3]), line[0], line[9], float(line[5])))  #Refer: https://knowledge.udacity.com/questions/529901"
   ]
  },
  {
   "cell_type": "markdown",
   "metadata": {},
   "source": [
    "#### Do a SELECT **QUERY** 1 to verify that the data have been inserted into each table"
   ]
  },
  {
   "cell_type": "code",
   "execution_count": 28,
   "metadata": {
    "scrolled": true
   },
   "outputs": [
    {
     "name": "stdout",
     "output_type": "stream",
     "text": [
      "Faithless Music Matters (Mark Knight Dub) 495.30731201171875\n"
     ]
    }
   ],
   "source": [
    "query = \"SELECT artist, song_title, length \\\n",
    "FROM song_table WHERE session_id=338 AND item_in_session = 4\"\n",
    "try:\n",
    "    rows = session.execute(query)\n",
    "except Exception as e:\n",
    "    print(e)\n",
    "    \n",
    "for row in rows:\n",
    "    print (row.artist, row.song_title, row.length)"
   ]
  },
  {
   "cell_type": "markdown",
   "metadata": {},
   "source": [
    "### COPY AND REPEAT THE ABOVE THREE CELLS FOR EACH OF THE THREE QUESTIONS"
   ]
  },
  {
   "cell_type": "markdown",
   "metadata": {},
   "source": [
    "Query 2:\n",
    "=> **artist_table:** \n",
    "- Filtering by user_id and session_id. So both fields are composite partition key.\n",
    "- sorted by itemInSession => item_in_session is cluster key\n",
    "  \n",
    "| Column          | Type | Partition Key | Cluster Key | Explanation                                     |\n",
    "| --------------- | ---- | ------------- | ----------- | ------------------------------------------------ |\n",
    "| user_id         | INT  | Y             |             | fitering by userId                               |\n",
    "| session_id      | INT  | Y             |             | fitering by session_id                           |\n",
    "| artist          | TEXT |               |             |                                                  |\n",
    "| song_title      | TEXT |               |             |                                                  |\n",
    "| item_in_session | INT  |               | Y           | sorted by itemInSession => item_in_session is CK |\n",
    "| first_name      | TEXT |               |             |                                                  |\n",
    "| last_name       | TEXT |               |             |                                                  |"
   ]
  },
  {
   "cell_type": "code",
   "execution_count": 29,
   "metadata": {},
   "outputs": [],
   "source": [
    "# Query 2: Give me only the following: name of artist, song (sorted by itemInSession) and user (first and last name) for userid = 10, sessionid = 182 \n",
    "\n",
    "query = \"CREATE TABLE IF NOT EXISTS artist_table\"\n",
    "query = query + \"(user_id int, session_id int, artist text, song_title text, item_in_session int, \\\n",
    "                first_name text, last_name text, \\\n",
    "                PRIMARY KEY ((user_id, session_id), item_in_session))\"\n",
    "try:\n",
    "    session.execute(query)\n",
    "except Exception as e:\n",
    "    print(e)"
   ]
  },
  {
   "cell_type": "code",
   "execution_count": 30,
   "metadata": {},
   "outputs": [],
   "source": [
    "# We have provided part of the code to set up the CSV file. Please complete the Apache Cassandra code below#\n",
    "file = 'event_datafile_new.csv'\n",
    "\n",
    "with open(file, encoding = 'utf8') as f:\n",
    "    csvreader = csv.reader(f)\n",
    "    next(csvreader) # skip header\n",
    "    for line in csvreader:\n",
    "        # insert records into artist_table\n",
    "        query = \"INSERT INTO artist_table (user_id, session_id, artist, song_title, item_in_session, first_name, last_name)\"\n",
    "        query = query + \" VALUES (%s, %s, %s, %s, %s, %s, %s)\"\n",
    "        session.execute(query, (int(line[10]), int(line[8]), line[0], line[9], int(line[3]), line[1], line[4]))  #Refer: https://knowledge.udacity.com/questions/529901"
   ]
  },
  {
   "cell_type": "markdown",
   "metadata": {},
   "source": [
    "#### Do a SELECT **QUERY** 2 to verify that the data have been inserted into each table"
   ]
  },
  {
   "cell_type": "code",
   "execution_count": 31,
   "metadata": {},
   "outputs": [
    {
     "name": "stdout",
     "output_type": "stream",
     "text": [
      "Down To The Bone Keep On Keepin' On 0 Sylvie Cruz\n",
      "Three Drives Greece 2000 1 Sylvie Cruz\n",
      "Sebastien Tellier Kilometer 2 Sylvie Cruz\n",
      "Lonnie Gordon Catch You Baby (Steve Pitron & Max Sanna Radio Edit) 3 Sylvie Cruz\n"
     ]
    }
   ],
   "source": [
    "query = \"SELECT artist, song_title, item_in_session, first_name, last_name \\\n",
    "FROM artist_table WHERE user_id=10 AND session_id=182 \"\n",
    "\n",
    "try:\n",
    "    rows = session.execute(query)\n",
    "except Exception as e:\n",
    "    print(e)\n",
    "    \n",
    "for row in rows:\n",
    "    print (row.artist, row.song_title, row.item_in_session, row.first_name, row.last_name)"
   ]
  },
  {
   "cell_type": "markdown",
   "metadata": {},
   "source": [
    "### COPY AND REPEAT THE ABOVE THREE CELLS FOR EACH OF THE THREE QUESTIONS"
   ]
  },
  {
   "cell_type": "markdown",
   "metadata": {},
   "source": [
    "Query 3:\n",
    "=> **user_table:** \n",
    "- Filtering by song_title . So that field is partition key.\n",
    "- song_title is not unique => add user_id is CK\n",
    "\n",
    "| Column     | Type | Partition Key | Cluster Key | Explanation                                   |\n",
    "| ---------- | ---- | ------------- | ----------- | ---------------------------------------------- |\n",
    "| song_title | TEXT | Y             |             | fitering by song => song_title is PK           |\n",
    "| user_id    | INT  |               | Y           | due to song is not unique => add user_id is CK |\n",
    "| first_name | TEXT |               |             |                                                |\n",
    "| last_name  | TEXT |               |             |                                                |"
   ]
  },
  {
   "cell_type": "code",
   "execution_count": 32,
   "metadata": {},
   "outputs": [],
   "source": [
    "# Query 3: Give me every user name (first and last) in my music app history who listened to the song 'All Hands Against His Own'\n",
    "\n",
    "query = \"CREATE TABLE IF NOT EXISTS user_table\"\n",
    "query = query + \"(song_title text, user_id int, first_name text, last_name text, \\\n",
    "                PRIMARY KEY ((song_title), user_id))\"\n",
    "try:\n",
    "    session.execute(query)\n",
    "except Exception as e:\n",
    "    print(e)"
   ]
  },
  {
   "cell_type": "code",
   "execution_count": 33,
   "metadata": {},
   "outputs": [],
   "source": [
    "# We have provided part of the code to set up the CSV file. Please complete the Apache Cassandra code below#\n",
    "file = 'event_datafile_new.csv'\n",
    "\n",
    "with open(file, encoding = 'utf8') as f:\n",
    "    csvreader = csv.reader(f)\n",
    "    next(csvreader) # skip header\n",
    "    for line in csvreader:\n",
    "        # insert records into user_table\n",
    "        query = \"INSERT INTO user_table (song_title, user_id, first_name, last_name)\"\n",
    "        query = query + \" VALUES (%s, %s, %s, %s)\"\n",
    "        session.execute(query, (line[9], int(line[10]), line[1], line[4]))  #Refer: https://knowledge.udacity.com/questions/529901"
   ]
  },
  {
   "cell_type": "markdown",
   "metadata": {},
   "source": [
    "#### Do a SELECT **QUERY** 3 to verify that the data have been inserted into each table"
   ]
  },
  {
   "cell_type": "code",
   "execution_count": 34,
   "metadata": {},
   "outputs": [
    {
     "name": "stdout",
     "output_type": "stream",
     "text": [
      "Jacqueline Lynch\n",
      "Tegan Levine\n",
      "Sara Johnson\n"
     ]
    }
   ],
   "source": [
    "query = \"SELECT first_name, last_name \\\n",
    "FROM user_table WHERE song_title='All Hands Against His Own' \"\n",
    "try:\n",
    "    rows = session.execute(query)\n",
    "except Exception as e:\n",
    "    print(e)\n",
    "    \n",
    "for row in rows:\n",
    "    print (row.first_name, row.last_name)"
   ]
  },
  {
   "cell_type": "markdown",
   "metadata": {},
   "source": [
    "## Drop the tables before closing out the sessions"
   ]
  },
  {
   "cell_type": "markdown",
   "metadata": {},
   "source": [
    "### Drop the table before closing out the sessions"
   ]
  },
  {
   "cell_type": "code",
   "execution_count": 35,
   "metadata": {},
   "outputs": [],
   "source": [
    "# Drop the table before closing out the sessions\n",
    "query = \"DROP TABLE IF EXISTS song_table\"\n",
    "try:\n",
    "    rows = session.execute(query)\n",
    "except Exception as e:\n",
    "    print(e)\n",
    "\n",
    "query2 = \"DROP TABLE IF EXISTS artist_table\"\n",
    "try:\n",
    "    rows = session.execute(query2)\n",
    "except Exception as e:\n",
    "    print(e)\n",
    "    \n",
    "query3 = \"DROP TABLE IF EXISTS user_table\"\n",
    "try:\n",
    "    rows = session.execute(query3)\n",
    "except Exception as e:\n",
    "    print(e)"
   ]
  },
  {
   "cell_type": "markdown",
   "metadata": {},
   "source": [
    "### Close the session and cluster connection¶"
   ]
  },
  {
   "cell_type": "code",
   "execution_count": 36,
   "metadata": {},
   "outputs": [],
   "source": [
    "session.shutdown()\n",
    "cluster.shutdown()"
   ]
  },
  {
   "cell_type": "code",
   "execution_count": null,
   "metadata": {},
   "outputs": [],
   "source": []
  }
 ],
 "metadata": {
  "kernelspec": {
   "display_name": "Python 3",
   "language": "python",
   "name": "python3"
  },
  "language_info": {
   "codemirror_mode": {
    "name": "ipython",
    "version": 3
   },
   "file_extension": ".py",
   "mimetype": "text/x-python",
   "name": "python",
   "nbconvert_exporter": "python",
   "pygments_lexer": "ipython3",
   "version": "3.10.2"
  }
 },
 "nbformat": 4,
 "nbformat_minor": 2
}
